{
  "nbformat": 4,
  "nbformat_minor": 0,
  "metadata": {
    "colab": {
      "provenance": []
    },
    "kernelspec": {
      "name": "python3",
      "display_name": "Python 3"
    },
    "language_info": {
      "name": "python"
    }
  },
  "cells": [
    {
      "cell_type": "markdown",
      "source": [
        "# Football Data Engineering avec PySpark : Statistiques, KPIs et champions ⚽"
      ],
      "metadata": {
        "id": "1RorwCNE7_vS"
      }
    },
    {
      "cell_type": "markdown",
      "source": [
        "# Étape 1 : Chargement et préparation des données"
      ],
      "metadata": {
        "id": "O8I1JGhC8WM5"
      }
    },
    {
      "cell_type": "markdown",
      "source": [
        "## Charger le fichier CSV dans un DataFrame PySpark."
      ],
      "metadata": {
        "id": "t4D-C2bp80hA"
      }
    },
    {
      "cell_type": "markdown",
      "source": [
        "1 Installer et importer PySpark (nécessaire dans Google Colab)"
      ],
      "metadata": {
        "id": "lDH-GguECCkp"
      }
    },
    {
      "cell_type": "code",
      "source": [
        "!pip install pyspark"
      ],
      "metadata": {
        "colab": {
          "base_uri": "https://localhost:8080/"
        },
        "id": "5vOckEuV8nBP",
        "outputId": "d12a56b1-58f8-45fb-9431-dc624cb67557"
      },
      "execution_count": 6,
      "outputs": [
        {
          "output_type": "stream",
          "name": "stdout",
          "text": [
            "Requirement already satisfied: pyspark in /usr/local/lib/python3.12/dist-packages (3.5.1)\n",
            "Requirement already satisfied: py4j==0.10.9.7 in /usr/local/lib/python3.12/dist-packages (from pyspark) (0.10.9.7)\n"
          ]
        }
      ]
    },
    {
      "cell_type": "markdown",
      "source": [
        "2 Initialiser une session Spark"
      ],
      "metadata": {
        "id": "2ZLeAeBrCIOJ"
      }
    },
    {
      "cell_type": "code",
      "source": [
        "from pyspark.sql import SparkSession\n",
        "from pyspark.sql.functions import col\n",
        "from pyspark.sql.types import StructType, StructField, IntegerType, StringType, DateType\n",
        "\n",
        "spark = SparkSession.builder \\\n",
        "    .appName(\"FootballPerformanceAnalysis\") \\\n",
        "    .getOrCreate()"
      ],
      "metadata": {
        "id": "TzgxzfDw_b83"
      },
      "execution_count": 7,
      "outputs": []
    },
    {
      "cell_type": "markdown",
      "source": [
        "3️ Définir le schéma du fichier CSV"
      ],
      "metadata": {
        "id": "vgp35KfvCKOJ"
      }
    },
    {
      "cell_type": "code",
      "source": [
        "schema = StructType([\n",
        "    StructField(\"Match_ID\", IntegerType(), True),\n",
        "    StructField(\"Div\", StringType(), True),\n",
        "    StructField(\"Season\", IntegerType(), True),\n",
        "    StructField(\"Date\", StringType(), True),\n",
        "    StructField(\"HomeTeam\", StringType(), True),\n",
        "    StructField(\"AwayTeam\", StringType(), True),\n",
        "    StructField(\"FTHG\", IntegerType(), True),  # Full Time Home Goals\n",
        "    StructField(\"FTAG\", IntegerType(), True),  # Full Time Away Goals\n",
        "    StructField(\"FTR\", StringType(), True)     # Full Time Result (H/A/D)\n",
        "])"
      ],
      "metadata": {
        "id": "iZmgYEAM_qFY"
      },
      "execution_count": 8,
      "outputs": []
    },
    {
      "cell_type": "markdown",
      "source": [
        "4️ Charger le fichier CSV dans un DataFrame PySpark"
      ],
      "metadata": {
        "id": "TmamStgOCq4C"
      }
    },
    {
      "cell_type": "code",
      "source": [
        "file_path = \"/content/football-matches-68e30d7701b83243515688.csv\"\n",
        "\n",
        "df_raw = spark.read.csv(file_path, header=True, schema=schema)"
      ],
      "metadata": {
        "id": "4GrXRp-v_xTo"
      },
      "execution_count": 10,
      "outputs": []
    },
    {
      "cell_type": "markdown",
      "source": [
        "5️ Aperçu des données"
      ],
      "metadata": {
        "id": "Dp8myPrcC0Vy"
      }
    },
    {
      "cell_type": "code",
      "source": [
        "print(\" Aperçu du dataset brut :\")\n",
        "df_raw.show(5)\n",
        "print(\"Nombre total de lignes :\", df_raw.count())"
      ],
      "metadata": {
        "colab": {
          "base_uri": "https://localhost:8080/"
        },
        "id": "2pafa3miAPHK",
        "outputId": "705988a5-f5b4-482d-93dd-939b5d744d87"
      },
      "execution_count": 11,
      "outputs": [
        {
          "output_type": "stream",
          "name": "stdout",
          "text": [
            " Aperçu du dataset brut :\n",
            "+--------+---+------+----------+-------------+--------------+----+----+---+\n",
            "|Match_ID|Div|Season|      Date|     HomeTeam|      AwayTeam|FTHG|FTAG|FTR|\n",
            "+--------+---+------+----------+-------------+--------------+----+----+---+\n",
            "|       1| D2|  2009|2010-04-04|   Oberhausen|Kaiserslautern|   2|   1|  H|\n",
            "|       2| D2|  2009|2009-11-01|  Munich 1860|Kaiserslautern|   0|   1|  A|\n",
            "|       3| D2|  2009|2009-10-04|Frankfurt FSV|Kaiserslautern|   1|   1|  D|\n",
            "|       4| D2|  2009|2010-02-21|Frankfurt FSV|     Karlsruhe|   2|   1|  H|\n",
            "|       5| D2|  2009|2009-12-06|        Ahlen|     Karlsruhe|   1|   3|  A|\n",
            "+--------+---+------+----------+-------------+--------------+----+----+---+\n",
            "only showing top 5 rows\n",
            "\n",
            "Nombre total de lignes : 24625\n"
          ]
        }
      ]
    },
    {
      "cell_type": "markdown",
      "source": [
        "## Comprendre la signification des colonnes."
      ],
      "metadata": {
        "id": "YwdqC7On863P"
      }
    },
    {
      "cell_type": "code",
      "source": [
        "# ----------------------------------------------------------\n",
        "# Comprendre la signification et les types de colonnes\n",
        "# ----------------------------------------------------------\n",
        "print(\"📋 Schéma du DataFrame :\")\n",
        "df_raw.printSchema()\n",
        "\n",
        "print(\"🧠 Description statistique :\")\n",
        "df_raw.describe([\"FTHG\", \"FTAG\"]).show()"
      ],
      "metadata": {
        "colab": {
          "base_uri": "https://localhost:8080/"
        },
        "id": "GZkFNJHWAbrE",
        "outputId": "c63d53b1-d8d6-45cc-ad18-7ac5ee591877"
      },
      "execution_count": 12,
      "outputs": [
        {
          "output_type": "stream",
          "name": "stdout",
          "text": [
            "📋 Schéma du DataFrame :\n",
            "root\n",
            " |-- Match_ID: integer (nullable = true)\n",
            " |-- Div: string (nullable = true)\n",
            " |-- Season: integer (nullable = true)\n",
            " |-- Date: string (nullable = true)\n",
            " |-- HomeTeam: string (nullable = true)\n",
            " |-- AwayTeam: string (nullable = true)\n",
            " |-- FTHG: integer (nullable = true)\n",
            " |-- FTAG: integer (nullable = true)\n",
            " |-- FTR: string (nullable = true)\n",
            "\n",
            "🧠 Description statistique :\n",
            "+-------+------------------+------------------+\n",
            "|summary|              FTHG|              FTAG|\n",
            "+-------+------------------+------------------+\n",
            "|  count|             24625|             24625|\n",
            "|   mean|1.5170355329949239| 1.097502538071066|\n",
            "| stddev|1.3594706607115317|1.1635103573988272|\n",
            "|    min|                -1|                -1|\n",
            "|    max|                 9|                 9|\n",
            "+-------+------------------+------------------+\n",
            "\n"
          ]
        }
      ]
    },
    {
      "cell_type": "markdown",
      "source": [
        "## Renommer et supprimer des colonnes inutiles."
      ],
      "metadata": {
        "id": "-LzGm9Px9Dcs"
      }
    },
    {
      "cell_type": "code",
      "source": [
        "# ----------------------------------------------------------\n",
        "# 1 Renommer et supprimer les colonnes inutiles\n",
        "# ----------------------------------------------------------\n",
        "\n",
        "df_cleaned = df_raw.selectExpr(\n",
        "    \"*\",\n",
        "    \"FTHG as HomeTeamGoals\",\n",
        "    \"FTAG as AwayTeamGoals\",\n",
        "    \"FTR as FinalResult\"\n",
        ")\n"
      ],
      "metadata": {
        "id": "B6M9SaM49Gfh"
      },
      "execution_count": 13,
      "outputs": []
    },
    {
      "cell_type": "code",
      "source": [
        "df_cleaned.show(5)"
      ],
      "metadata": {
        "colab": {
          "base_uri": "https://localhost:8080/"
        },
        "id": "wxtqHmfp2DfL",
        "outputId": "a25e427a-37a7-4cb4-ed10-513ab5cfbda5"
      },
      "execution_count": null,
      "outputs": [
        {
          "output_type": "stream",
          "name": "stdout",
          "text": [
            "+--------+---+------+----------+-------------+--------------+----+----+---+-------------+-------------+-----------+\n",
            "|Match_ID|Div|Season|      Date|     HomeTeam|      AwayTeam|FTHG|FTAG|FTR|HomeTeamGoals|AwayTeamGoals|FinalResult|\n",
            "+--------+---+------+----------+-------------+--------------+----+----+---+-------------+-------------+-----------+\n",
            "|       1| D2|  2009|2010-04-04|   Oberhausen|Kaiserslautern|   2|   1|  H|            2|            1|          H|\n",
            "|       2| D2|  2009|2009-11-01|  Munich 1860|Kaiserslautern|   0|   1|  A|            0|            1|          A|\n",
            "|       3| D2|  2009|2009-10-04|Frankfurt FSV|Kaiserslautern|   1|   1|  D|            1|            1|          D|\n",
            "|       4| D2|  2009|2010-02-21|Frankfurt FSV|     Karlsruhe|   2|   1|  H|            2|            1|          H|\n",
            "|       5| D2|  2009|2009-12-06|        Ahlen|     Karlsruhe|   1|   3|  A|            1|            3|          A|\n",
            "+--------+---+------+----------+-------------+--------------+----+----+---+-------------+-------------+-----------+\n",
            "only showing top 5 rows\n",
            "\n"
          ]
        }
      ]
    },
    {
      "cell_type": "code",
      "source": [
        "df_cleaned = df_cleaned.drop(\"Date\",\"FTHG\", \"FTAG\",\"FTR\")"
      ],
      "metadata": {
        "id": "626cydzT2WXC"
      },
      "execution_count": 14,
      "outputs": []
    },
    {
      "cell_type": "code",
      "source": [
        "df_cleaned.show(5)"
      ],
      "metadata": {
        "colab": {
          "base_uri": "https://localhost:8080/"
        },
        "id": "QELn-dL243IF",
        "outputId": "11355284-8321-4601-ae8f-c5ddfda35c97"
      },
      "execution_count": 15,
      "outputs": [
        {
          "output_type": "stream",
          "name": "stdout",
          "text": [
            "+--------+---+------+-------------+--------------+-------------+-------------+-----------+\n",
            "|Match_ID|Div|Season|     HomeTeam|      AwayTeam|HomeTeamGoals|AwayTeamGoals|FinalResult|\n",
            "+--------+---+------+-------------+--------------+-------------+-------------+-----------+\n",
            "|       1| D2|  2009|   Oberhausen|Kaiserslautern|            2|            1|          H|\n",
            "|       2| D2|  2009|  Munich 1860|Kaiserslautern|            0|            1|          A|\n",
            "|       3| D2|  2009|Frankfurt FSV|Kaiserslautern|            1|            1|          D|\n",
            "|       4| D2|  2009|Frankfurt FSV|     Karlsruhe|            2|            1|          H|\n",
            "|       5| D2|  2009|        Ahlen|     Karlsruhe|            1|            3|          A|\n",
            "+--------+---+------+-------------+--------------+-------------+-------------+-----------+\n",
            "only showing top 5 rows\n",
            "\n"
          ]
        }
      ]
    },
    {
      "cell_type": "code",
      "source": [
        "# ----------------------------------------------------------\n",
        "# 2 Vérification du DataFrame nettoyé\n",
        "# ----------------------------------------------------------\n",
        "\n",
        "print(\" Schéma après renommage :\")\n",
        "df_cleaned.printSchema()\n",
        "\n",
        "print(\" Exemple de données transformées :\")\n",
        "df_cleaned.show(5)"
      ],
      "metadata": {
        "colab": {
          "base_uri": "https://localhost:8080/"
        },
        "id": "TDsMAtzHBLaz",
        "outputId": "947b40fb-c535-418b-ea09-7a320ebaaf9b"
      },
      "execution_count": 16,
      "outputs": [
        {
          "output_type": "stream",
          "name": "stdout",
          "text": [
            " Schéma après renommage :\n",
            "root\n",
            " |-- Match_ID: integer (nullable = true)\n",
            " |-- Div: string (nullable = true)\n",
            " |-- Season: integer (nullable = true)\n",
            " |-- HomeTeam: string (nullable = true)\n",
            " |-- AwayTeam: string (nullable = true)\n",
            " |-- HomeTeamGoals: integer (nullable = true)\n",
            " |-- AwayTeamGoals: integer (nullable = true)\n",
            " |-- FinalResult: string (nullable = true)\n",
            "\n",
            " Exemple de données transformées :\n",
            "+--------+---+------+-------------+--------------+-------------+-------------+-----------+\n",
            "|Match_ID|Div|Season|     HomeTeam|      AwayTeam|HomeTeamGoals|AwayTeamGoals|FinalResult|\n",
            "+--------+---+------+-------------+--------------+-------------+-------------+-----------+\n",
            "|       1| D2|  2009|   Oberhausen|Kaiserslautern|            2|            1|          H|\n",
            "|       2| D2|  2009|  Munich 1860|Kaiserslautern|            0|            1|          A|\n",
            "|       3| D2|  2009|Frankfurt FSV|Kaiserslautern|            1|            1|          D|\n",
            "|       4| D2|  2009|Frankfurt FSV|     Karlsruhe|            2|            1|          H|\n",
            "|       5| D2|  2009|        Ahlen|     Karlsruhe|            1|            3|          A|\n",
            "+--------+---+------+-------------+--------------+-------------+-------------+-----------+\n",
            "only showing top 5 rows\n",
            "\n"
          ]
        }
      ]
    },
    {
      "cell_type": "code",
      "source": [],
      "metadata": {
        "id": "QCLPdamjBke5"
      },
      "execution_count": null,
      "outputs": []
    },
    {
      "cell_type": "markdown",
      "source": [
        "# Étape 2: Création de colonnes supplémentaires"
      ],
      "metadata": {
        "id": "xJcC_HNTBuoO"
      }
    },
    {
      "cell_type": "markdown",
      "source": [
        "## Colonnes indicatrices : HomeTeamWin, AwayTeamWin, GameTie."
      ],
      "metadata": {
        "id": "2RMkVc74DSQm"
      }
    },
    {
      "cell_type": "code",
      "source": [
        "import pyspark.sql.functions as F\n",
        "from pyspark.sql.functions import when, col\n",
        "\n",
        "df_cleaned = (\n",
        "    df_cleaned.withColumn(\"HomeTeamWin\", when(col(\"FinalResult\") == \"H\", 1).otherwise(0))\n",
        "      .withColumn(\"AwayTeamWin\", when(col(\"FinalResult\") == \"A\", 1).otherwise(0))\n",
        "      .withColumn(\"GameTie\", when(col(\"FinalResult\") == \"D\", 1).otherwise(0))\n",
        ")"
      ],
      "metadata": {
        "id": "vjjGuf84B7mj"
      },
      "execution_count": 17,
      "outputs": []
    },
    {
      "cell_type": "markdown",
      "source": [
        "## Vérification des résultats"
      ],
      "metadata": {
        "id": "jTORiyo8DVuE"
      }
    },
    {
      "cell_type": "code",
      "source": [
        "# Afficher un aperçu du DataFrame\n",
        "df_cleaned.show(10, truncate=False)\n",
        "\n",
        "# Vérifier la distribution des résultats\n",
        "df_cleaned.groupBy(\"FinalResult\").count().show()\n",
        "\n",
        "# Vérifier la cohérence des colonnes indicatrices\n",
        "df_cleaned.select(\"FinalResult\", \"HomeTeamWin\", \"AwayTeamWin\", \"GameTie\").distinct().show()"
      ],
      "metadata": {
        "colab": {
          "base_uri": "https://localhost:8080/"
        },
        "id": "afWJqFH9DZyR",
        "outputId": "51d73f6e-1e49-43a6-870d-0f82d4974a70"
      },
      "execution_count": 18,
      "outputs": [
        {
          "output_type": "stream",
          "name": "stdout",
          "text": [
            "+--------+---+------+--------------+--------------+-------------+-------------+-----------+-----------+-----------+-------+\n",
            "|Match_ID|Div|Season|HomeTeam      |AwayTeam      |HomeTeamGoals|AwayTeamGoals|FinalResult|HomeTeamWin|AwayTeamWin|GameTie|\n",
            "+--------+---+------+--------------+--------------+-------------+-------------+-----------+-----------+-----------+-------+\n",
            "|1       |D2 |2009  |Oberhausen    |Kaiserslautern|2            |1            |H          |1          |0          |0      |\n",
            "|2       |D2 |2009  |Munich 1860   |Kaiserslautern|0            |1            |A          |0          |1          |0      |\n",
            "|3       |D2 |2009  |Frankfurt FSV |Kaiserslautern|1            |1            |D          |0          |0          |1      |\n",
            "|4       |D2 |2009  |Frankfurt FSV |Karlsruhe     |2            |1            |H          |1          |0          |0      |\n",
            "|5       |D2 |2009  |Ahlen         |Karlsruhe     |1            |3            |A          |0          |1          |0      |\n",
            "|6       |D2 |2009  |Union Berlin  |Karlsruhe     |1            |1            |D          |0          |0          |1      |\n",
            "|7       |D2 |2009  |Paderborn     |Karlsruhe     |2            |0            |H          |1          |0          |0      |\n",
            "|8       |D2 |2009  |Bielefeld     |Karlsruhe     |0            |1            |A          |0          |1          |0      |\n",
            "|9       |D2 |2009  |Kaiserslautern|Karlsruhe     |2            |0            |H          |1          |0          |0      |\n",
            "|10      |D2 |2009  |Hansa Rostock |Karlsruhe     |2            |1            |H          |1          |0          |0      |\n",
            "+--------+---+------+--------------+--------------+-------------+-------------+-----------+-----------+-----------+-------+\n",
            "only showing top 10 rows\n",
            "\n",
            "+-----------+-----+\n",
            "|FinalResult|count|\n",
            "+-----------+-----+\n",
            "|          D| 6393|\n",
            "|          A| 6453|\n",
            "|          H|11779|\n",
            "+-----------+-----+\n",
            "\n",
            "+-----------+-----------+-----------+-------+\n",
            "|FinalResult|HomeTeamWin|AwayTeamWin|GameTie|\n",
            "+-----------+-----------+-----------+-------+\n",
            "|          H|          1|          0|      0|\n",
            "|          A|          0|          1|      0|\n",
            "|          D|          0|          0|      1|\n",
            "+-----------+-----------+-----------+-------+\n",
            "\n"
          ]
        }
      ]
    },
    {
      "cell_type": "code",
      "source": [],
      "metadata": {
        "id": "MSex1SAvF5me"
      },
      "execution_count": null,
      "outputs": []
    },
    {
      "cell_type": "markdown",
      "source": [
        "# Étape 3: Filtrage des données"
      ],
      "metadata": {
        "id": "YHt1mep2I-DG"
      }
    },
    {
      "cell_type": "markdown",
      "source": [
        "## 1. Garder uniquement la Bundesliga (Div = D1)."
      ],
      "metadata": {
        "id": "80aooocdJF5e"
      }
    },
    {
      "cell_type": "code",
      "source": [
        "from pyspark.sql.functions import col"
      ],
      "metadata": {
        "id": "1TYbAB0_JFBa"
      },
      "execution_count": 19,
      "outputs": []
    },
    {
      "cell_type": "code",
      "source": [
        "# ==============================\n",
        "# Filtrage : Bundesliga uniquement\n",
        "# ==============================\n",
        "df_filtered = df_cleaned.filter(col(\"Div\") == \"D1\")"
      ],
      "metadata": {
        "id": "NUhwJmMvJuVj"
      },
      "execution_count": 20,
      "outputs": []
    },
    {
      "cell_type": "markdown",
      "source": [
        "## 2. Restreindre aux saisons 2000–2015."
      ],
      "metadata": {
        "id": "Sx2GYS2QJNyy"
      }
    },
    {
      "cell_type": "code",
      "source": [
        "# ==============================\n",
        "# Filtrage : saisons entre 2000 et 2015 inclus\n",
        "# ==============================\n",
        "df_filtered = df_filtered.filter((col(\"Season\") >= 2000) & (col(\"Season\") <= 2015))"
      ],
      "metadata": {
        "id": "Sei3GozIJLyH"
      },
      "execution_count": 21,
      "outputs": []
    },
    {
      "cell_type": "code",
      "source": [
        "# ==============================\n",
        "# Vérification du filtrage\n",
        "# ==============================\n",
        "print(\"Nombre de lignes après filtrage :\", df_filtered.count())\n",
        "df_filtered.select(\"Season\", \"Div\").distinct().orderBy(\"Season\").show(20, truncate=False)"
      ],
      "metadata": {
        "colab": {
          "base_uri": "https://localhost:8080/"
        },
        "id": "RqQkLeNcKA1P",
        "outputId": "4534e7b0-0c64-42b1-a479-197b80370eeb"
      },
      "execution_count": 22,
      "outputs": [
        {
          "output_type": "stream",
          "name": "stdout",
          "text": [
            "Nombre de lignes après filtrage : 4896\n",
            "+------+---+\n",
            "|Season|Div|\n",
            "+------+---+\n",
            "|2000  |D1 |\n",
            "|2001  |D1 |\n",
            "|2002  |D1 |\n",
            "|2003  |D1 |\n",
            "|2004  |D1 |\n",
            "|2005  |D1 |\n",
            "|2006  |D1 |\n",
            "|2007  |D1 |\n",
            "|2008  |D1 |\n",
            "|2009  |D1 |\n",
            "|2010  |D1 |\n",
            "|2011  |D1 |\n",
            "|2012  |D1 |\n",
            "|2013  |D1 |\n",
            "|2014  |D1 |\n",
            "|2015  |D1 |\n",
            "+------+---+\n",
            "\n"
          ]
        }
      ]
    },
    {
      "cell_type": "code",
      "source": [],
      "metadata": {
        "id": "4_15FTroKFUV"
      },
      "execution_count": null,
      "outputs": []
    },
    {
      "cell_type": "markdown",
      "source": [
        "# Étape 4: Agrégations avec Group By (voir ressources)"
      ],
      "metadata": {
        "id": "S9cD6ULoKPKx"
      }
    },
    {
      "cell_type": "code",
      "source": [
        "from pyspark.sql import functions as F\n",
        "\n",
        "# ==============================\n",
        "# Agrégations pour les matchs à domicile\n",
        "# ==============================\n",
        "df_home_matches = (\n",
        "    df_filtered.groupBy(\"Season\", \"HomeTeam\")\n",
        "    .agg(\n",
        "        F.count(\"*\").alias(\"HomeGamesPlayed\"),\n",
        "        F.sum(\"HomeTeamWin\").alias(\"TotalHomeWin\"),\n",
        "        F.sum(\"AwayTeamWin\").alias(\"TotalHomeLoss\"),\n",
        "        F.sum(\"GameTie\").alias(\"TotalHomeTie\"),\n",
        "        F.sum(\"HomeTeamGoals\").alias(\"HomeScoredGoals\"),\n",
        "        F.sum(\"AwayTeamGoals\").alias(\"HomeAgainstGoals\"),\n",
        "    )\n",
        "    .withColumnRenamed(\"HomeTeam\", \"Team\")\n",
        ")\n",
        "\n",
        "# ==============================\n",
        "# Agrégations pour les matchs à l’extérieur\n",
        "# ==============================\n",
        "df_away_matches = (\n",
        "    df_filtered.groupBy(\"Season\", \"AwayTeam\")\n",
        "    .agg(\n",
        "        F.count(\"*\").alias(\"AwayGamesPlayed\"),\n",
        "        F.sum(\"AwayTeamWin\").alias(\"TotalAwayWin\"),\n",
        "        F.sum(\"HomeTeamWin\").alias(\"TotalAwayLoss\"),\n",
        "        F.sum(\"GameTie\").alias(\"TotalAwayTie\"),\n",
        "        F.sum(\"AwayTeamGoals\").alias(\"AwayScoredGoals\"),\n",
        "        F.sum(\"HomeTeamGoals\").alias(\"AwayAgainstGoals\"),\n",
        "    )\n",
        "    .withColumnRenamed(\"AwayTeam\", \"Team\")\n",
        ")\n",
        "\n",
        "# ==============================\n",
        "# Vérification rapide\n",
        "# ==============================\n",
        "print(\"✅ Statistiques à domicile :\")\n",
        "df_home_matches.show(5, truncate=False)\n",
        "\n",
        "print(\"✅ Statistiques à l’extérieur :\")\n",
        "df_away_matches.show(5, truncate=False)\n"
      ],
      "metadata": {
        "colab": {
          "base_uri": "https://localhost:8080/"
        },
        "id": "xfABGW54KawQ",
        "outputId": "263717d1-7b07-4f10-b5e2-7d3728cc920d"
      },
      "execution_count": 23,
      "outputs": [
        {
          "output_type": "stream",
          "name": "stdout",
          "text": [
            "✅ Statistiques à domicile :\n",
            "+------+-------------+---------------+------------+-------------+------------+---------------+----------------+\n",
            "|Season|Team         |HomeGamesPlayed|TotalHomeWin|TotalHomeLoss|TotalHomeTie|HomeScoredGoals|HomeAgainstGoals|\n",
            "+------+-------------+---------------+------------+-------------+------------+---------------+----------------+\n",
            "|2005  |Bayern Munich|17             |14          |1            |2           |42             |14              |\n",
            "|2008  |M'gladbach   |17             |5           |8            |4           |23             |27              |\n",
            "|2014  |Freiburg     |17             |5           |6            |6           |21             |22              |\n",
            "|2015  |Wolfsburg    |17             |9           |3            |5           |32             |17              |\n",
            "|2006  |Cottbus      |17             |6           |6            |5           |21             |22              |\n",
            "+------+-------------+---------------+------------+-------------+------------+---------------+----------------+\n",
            "only showing top 5 rows\n",
            "\n",
            "✅ Statistiques à l’extérieur :\n",
            "+------+-------------+---------------+------------+-------------+------------+---------------+----------------+\n",
            "|Season|Team         |AwayGamesPlayed|TotalAwayWin|TotalAwayLoss|TotalAwayTie|AwayScoredGoals|AwayAgainstGoals|\n",
            "+------+-------------+---------------+------------+-------------+------------+---------------+----------------+\n",
            "|2005  |Bayern Munich|17             |8           |2            |7           |25             |18              |\n",
            "|2008  |M'gladbach   |17             |3           |11           |3           |16             |35              |\n",
            "|2014  |Freiburg     |17             |2           |8            |7           |15             |25              |\n",
            "|2015  |Wolfsburg    |17             |3           |10           |4           |15             |32              |\n",
            "|2006  |Cottbus      |17             |5           |9            |3           |17             |27              |\n",
            "+------+-------------+---------------+------------+-------------+------------+---------------+----------------+\n",
            "only showing top 5 rows\n",
            "\n"
          ]
        }
      ]
    },
    {
      "cell_type": "code",
      "source": [],
      "metadata": {
        "id": "mUFeeZiuKuFI"
      },
      "execution_count": null,
      "outputs": []
    },
    {
      "cell_type": "markdown",
      "source": [
        "# Étape 5. Jointure de DataFrames"
      ],
      "metadata": {
        "id": "UgRwFF3UK0xY"
      }
    },
    {
      "cell_type": "markdown",
      "source": [
        "## Fusionner df_home_matches et df_away_matches ----> df_merged"
      ],
      "metadata": {
        "id": "n1VEcKx0LBK6"
      }
    },
    {
      "cell_type": "code",
      "source": [
        "from pyspark.sql import functions as F\n",
        "\n",
        "# ==============================\n",
        "# Jointure entre les stats domicile et extérieur\n",
        "# ==============================\n",
        "df_merged = df_home_matches.join(\n",
        "    df_away_matches,\n",
        "    on=[\"Season\", \"Team\"],\n",
        "    how=\"inner\"\n",
        ")\n",
        "\n",
        "# ==============================\n",
        "# Création des colonnes totales combinées\n",
        "# ==============================\n",
        "df_merged = (\n",
        "    df_merged.withColumn(\"TotalGames\", F.col(\"HomeGamesPlayed\") + F.col(\"AwayGamesPlayed\"))\n",
        "    .withColumn(\"Win\", F.col(\"TotalHomeWin\") + F.col(\"TotalAwayWin\"))\n",
        "    .withColumn(\"Loss\", F.col(\"TotalHomeLoss\") + F.col(\"TotalAwayLoss\"))\n",
        "    .withColumn(\"Tie\", F.col(\"TotalHomeTie\") + F.col(\"TotalAwayTie\"))\n",
        "    .withColumn(\"GoalsScored\", F.col(\"HomeScoredGoals\") + F.col(\"AwayScoredGoals\"))\n",
        "    .withColumn(\"GoalsAgainst\", F.col(\"HomeAgainstGoals\") + F.col(\"AwayAgainstGoals\"))\n",
        ")\n",
        "\n",
        "# ==============================\n",
        "# Vérification du DataFrame fusionné\n",
        "# ==============================\n",
        "print(\" DataFrame fusionné : df_merged\")\n",
        "df_merged.select(\n",
        "    \"Season\", \"Team\", \"TotalGames\", \"Win\", \"Loss\", \"Tie\", \"GoalsScored\", \"GoalsAgainst\"\n",
        ").show(10, truncate=False)\n"
      ],
      "metadata": {
        "colab": {
          "base_uri": "https://localhost:8080/"
        },
        "id": "Fxhib240K9oY",
        "outputId": "62fa9364-dc6e-47fd-f54c-3e23d6cf130a"
      },
      "execution_count": 24,
      "outputs": [
        {
          "output_type": "stream",
          "name": "stdout",
          "text": [
            " DataFrame fusionné : df_merged\n",
            "+------+-------------+----------+---+----+---+-----------+------------+\n",
            "|Season|Team         |TotalGames|Win|Loss|Tie|GoalsScored|GoalsAgainst|\n",
            "+------+-------------+----------+---+----+---+-----------+------------+\n",
            "|2005  |Bayern Munich|34        |22 |3   |9  |67         |32          |\n",
            "|2008  |M'gladbach   |34        |8  |19  |7  |39         |62          |\n",
            "|2014  |Freiburg     |34        |7  |14  |13 |36         |47          |\n",
            "|2015  |Wolfsburg    |34        |12 |13  |9  |47         |49          |\n",
            "|2006  |Cottbus      |34        |11 |15  |8  |38         |49          |\n",
            "|2015  |Ein Frankfurt|34        |9  |16  |9  |34         |52          |\n",
            "|2010  |Hannover     |34        |19 |12  |3  |49         |45          |\n",
            "|2004  |Leverkusen   |34        |16 |9   |9  |65         |44          |\n",
            "|2007  |Cottbus      |34        |9  |16  |9  |35         |56          |\n",
            "|2011  |Werder Bremen|34        |11 |14  |9  |49         |58          |\n",
            "+------+-------------+----------+---+----+---+-----------+------------+\n",
            "only showing top 10 rows\n",
            "\n"
          ]
        }
      ]
    },
    {
      "cell_type": "code",
      "source": [],
      "metadata": {
        "id": "d2_aSdgGLNs4"
      },
      "execution_count": null,
      "outputs": []
    },
    {
      "cell_type": "markdown",
      "source": [
        "# Étape 6. Création de nouvelles colonnes synthétiques\n"
      ],
      "metadata": {
        "id": "iC2OrB0nLaek"
      }
    },
    {
      "cell_type": "markdown",
      "source": [
        "1. Colonnes totales : GoalsScored, GoalsAgainst, Win, Loss, Tie.\n",
        "2. Colonnes avancées : GoalDifferentials, WinPercentage, GoalsPerGame, GoalsAgainstPerGame.\n"
      ],
      "metadata": {
        "id": "h_VvMhc6LxCh"
      }
    },
    {
      "cell_type": "code",
      "source": [
        "from pyspark.sql import functions as F\n",
        "\n",
        "# ==============================\n",
        "# Création des colonnes synthétiques\n",
        "# ==============================\n",
        "df_processed = (\n",
        "    df_merged\n",
        "    .withColumn(\"GoalDifferentials\", F.col(\"GoalsScored\") - F.col(\"GoalsAgainst\"))\n",
        "    .withColumn(\"WinPercentage\", F.round((F.col(\"Win\") / F.col(\"TotalGames\")) * 100, 2))\n",
        "    .withColumn(\"GoalsPerGame\", F.round(F.col(\"GoalsScored\") / F.col(\"TotalGames\"), 2))\n",
        "    .withColumn(\"GoalsAgainstPerGame\", F.round(F.col(\"GoalsAgainst\") / F.col(\"TotalGames\"), 2))\n",
        ")\n",
        "\n",
        "# ==============================\n",
        "# Vérification du résultat\n",
        "# ==============================\n",
        "print(\"✅ DataFrame après création des colonnes synthétiques : df_processed\")\n",
        "df_processed.select(\n",
        "    \"Season\", \"Team\", \"TotalGames\", \"Win\", \"Loss\", \"Tie\",\n",
        "    \"GoalsScored\", \"GoalsAgainst\", \"GoalDifferentials\",\n",
        "    \"WinPercentage\", \"GoalsPerGame\", \"GoalsAgainstPerGame\"\n",
        ").show(10, truncate=False)\n"
      ],
      "metadata": {
        "colab": {
          "base_uri": "https://localhost:8080/"
        },
        "id": "CaDahDytL4-p",
        "outputId": "b42e6398-c394-4fc6-b6af-7b3fe417450d"
      },
      "execution_count": 25,
      "outputs": [
        {
          "output_type": "stream",
          "name": "stdout",
          "text": [
            "✅ DataFrame après création des colonnes synthétiques : df_processed\n",
            "+------+-------------+----------+---+----+---+-----------+------------+-----------------+-------------+------------+-------------------+\n",
            "|Season|Team         |TotalGames|Win|Loss|Tie|GoalsScored|GoalsAgainst|GoalDifferentials|WinPercentage|GoalsPerGame|GoalsAgainstPerGame|\n",
            "+------+-------------+----------+---+----+---+-----------+------------+-----------------+-------------+------------+-------------------+\n",
            "|2005  |Bayern Munich|34        |22 |3   |9  |67         |32          |35               |64.71        |1.97        |0.94               |\n",
            "|2008  |M'gladbach   |34        |8  |19  |7  |39         |62          |-23              |23.53        |1.15        |1.82               |\n",
            "|2014  |Freiburg     |34        |7  |14  |13 |36         |47          |-11              |20.59        |1.06        |1.38               |\n",
            "|2015  |Wolfsburg    |34        |12 |13  |9  |47         |49          |-2               |35.29        |1.38        |1.44               |\n",
            "|2006  |Cottbus      |34        |11 |15  |8  |38         |49          |-11              |32.35        |1.12        |1.44               |\n",
            "|2015  |Ein Frankfurt|34        |9  |16  |9  |34         |52          |-18              |26.47        |1.0         |1.53               |\n",
            "|2010  |Hannover     |34        |19 |12  |3  |49         |45          |4                |55.88        |1.44        |1.32               |\n",
            "|2004  |Leverkusen   |34        |16 |9   |9  |65         |44          |21               |47.06        |1.91        |1.29               |\n",
            "|2007  |Cottbus      |34        |9  |16  |9  |35         |56          |-21              |26.47        |1.03        |1.65               |\n",
            "|2011  |Werder Bremen|34        |11 |14  |9  |49         |58          |-9               |32.35        |1.44        |1.71               |\n",
            "+------+-------------+----------+---+----+---+-----------+------------+-----------------+-------------+------------+-------------------+\n",
            "only showing top 10 rows\n",
            "\n"
          ]
        }
      ]
    },
    {
      "cell_type": "code",
      "source": [],
      "metadata": {
        "id": "_3RyRiOmMUHy"
      },
      "execution_count": null,
      "outputs": []
    },
    {
      "cell_type": "markdown",
      "source": [
        "# Étape 7. Classement avec Window Functions"
      ],
      "metadata": {
        "id": "P83Jto95MqvX"
      }
    },
    {
      "cell_type": "markdown",
      "source": [
        "## 1. Créer une fenêtre partitionnée par Season."
      ],
      "metadata": {
        "id": "9n8PdZZENFsO"
      }
    },
    {
      "cell_type": "code",
      "source": [
        "from pyspark.sql import Window\n",
        "from pyspark.sql import functions as F\n",
        "\n",
        "# ==============================\n",
        "# Définition de la fenêtre de classement\n",
        "# ==============================\n",
        "windowSpec = Window.partitionBy(\"Season\").orderBy(\n",
        "    F.desc(\"WinPercentage\"),\n",
        "    F.desc(\"GoalDifferentials\")\n",
        ")"
      ],
      "metadata": {
        "id": "2vMAUzrOM1b3"
      },
      "execution_count": 26,
      "outputs": []
    },
    {
      "cell_type": "markdown",
      "source": [
        "## 2. Ajouter TeamPosition selon WinPercentage et GoalDifferentials."
      ],
      "metadata": {
        "id": "2mdqHFoJNQGS"
      }
    },
    {
      "cell_type": "code",
      "source": [
        "# ==============================\n",
        "# Ajout du classement (TeamPosition)\n",
        "# ==============================\n",
        "df_ranked = df_processed.withColumn(\n",
        "    \"TeamPosition\",\n",
        "    F.row_number().over(windowSpec)\n",
        ")"
      ],
      "metadata": {
        "id": "AepSW837NOgz"
      },
      "execution_count": 27,
      "outputs": []
    },
    {
      "cell_type": "markdown",
      "source": [
        "## 3. vérification"
      ],
      "metadata": {
        "id": "z_xl8sK7NcbV"
      }
    },
    {
      "cell_type": "code",
      "source": [
        "# ==============================\n",
        "# Vérification du résultat\n",
        "# ==============================\n",
        "print(\" Classement des équipes par saison : df_ranked\")\n",
        "df_ranked.select(\n",
        "    \"Season\", \"Team\", \"WinPercentage\", \"GoalDifferentials\", \"TeamPosition\"\n",
        ").orderBy(\"Season\", \"TeamPosition\").show(25, truncate=False)"
      ],
      "metadata": {
        "colab": {
          "base_uri": "https://localhost:8080/"
        },
        "id": "8oEl8N3GNaux",
        "outputId": "149aeae9-3194-4d28-d8db-e6215b290014"
      },
      "execution_count": 28,
      "outputs": [
        {
          "output_type": "stream",
          "name": "stdout",
          "text": [
            " Classement des équipes par saison : df_ranked\n",
            "+------+--------------+-------------+-----------------+------------+\n",
            "|Season|Team          |WinPercentage|GoalDifferentials|TeamPosition|\n",
            "+------+--------------+-------------+-----------------+------------+\n",
            "|2000  |Bayern Munich |55.88        |25               |1           |\n",
            "|2000  |Schalke 04    |52.94        |30               |2           |\n",
            "|2000  |Hertha        |52.94        |6                |3           |\n",
            "|2000  |Leverkusen    |50.0         |14               |4           |\n",
            "|2000  |Dortmund      |47.06        |20               |5           |\n",
            "|2000  |Freiburg      |44.12        |17               |6           |\n",
            "|2000  |Werder Bremen |44.12        |5                |7           |\n",
            "|2000  |Kaiserslautern|44.12        |-5               |8           |\n",
            "|2000  |Wolfsburg     |35.29        |15               |9           |\n",
            "|2000  |FC Koln       |35.29        |7                |10          |\n",
            "|2000  |Munich 1860   |35.29        |-12              |11          |\n",
            "|2000  |Hansa Rostock |35.29        |-13              |12          |\n",
            "|2000  |Cottbus       |35.29        |-14              |13          |\n",
            "|2000  |Hamburg       |29.41        |0                |14          |\n",
            "|2000  |Ein Frankfurt |29.41        |-27              |15          |\n",
            "|2000  |Stuttgart     |26.47        |-7               |16          |\n",
            "|2000  |Unterhaching  |23.53        |-24              |17          |\n",
            "|2000  |Bochum        |20.59        |-37              |18          |\n",
            "|2001  |Leverkusen    |61.76        |39               |1           |\n",
            "|2001  |Dortmund      |61.76        |29               |2           |\n",
            "|2001  |Bayern Munich |58.82        |40               |3           |\n",
            "|2001  |Hertha        |52.94        |23               |4           |\n",
            "|2001  |Schalke 04    |52.94        |16               |5           |\n",
            "|2001  |Werder Bremen |50.0         |11               |6           |\n",
            "|2001  |Kaiserslautern|50.0         |9                |7           |\n",
            "+------+--------------+-------------+-----------------+------------+\n",
            "only showing top 25 rows\n",
            "\n"
          ]
        }
      ]
    },
    {
      "cell_type": "code",
      "source": [],
      "metadata": {
        "id": "m63NxfgMNl4u"
      },
      "execution_count": null,
      "outputs": []
    },
    {
      "cell_type": "markdown",
      "source": [
        "# Étape 8. Extraction des champions & sauvegarde Parquet"
      ],
      "metadata": {
        "id": "DgDbBJV3N61s"
      }
    },
    {
      "cell_type": "markdown",
      "source": [
        "## 1. Filtrer TeamPosition = 1."
      ],
      "metadata": {
        "id": "rWctDm-JOEPR"
      }
    },
    {
      "cell_type": "code",
      "source": [
        "from pyspark.sql import functions as F\n",
        "\n",
        "# ==============================\n",
        "# 1 Extraction des champions\n",
        "# ==============================\n",
        "df_top_teams = df_ranked.filter(F.col(\"TeamPosition\") == 1)\n",
        "\n",
        "# Vérification rapide\n",
        "print(\"🏆 Champions par saison :\")\n",
        "df_top_teams.select(\"Season\", \"Team\", \"WinPercentage\", \"GoalDifferentials\").orderBy(\"Season\").show(20, truncate=False)"
      ],
      "metadata": {
        "colab": {
          "base_uri": "https://localhost:8080/"
        },
        "id": "_reL2x3WN-kE",
        "outputId": "f7e9aea7-e48d-463a-cb4c-a2ed30c56e01"
      },
      "execution_count": 29,
      "outputs": [
        {
          "output_type": "stream",
          "name": "stdout",
          "text": [
            "🏆 Champions par saison :\n",
            "+------+-------------+-------------+-----------------+\n",
            "|Season|Team         |WinPercentage|GoalDifferentials|\n",
            "+------+-------------+-------------+-----------------+\n",
            "|2000  |Bayern Munich|55.88        |25               |\n",
            "|2001  |Leverkusen   |61.76        |39               |\n",
            "|2002  |Bayern Munich|67.65        |45               |\n",
            "|2003  |Werder Bremen|64.71        |41               |\n",
            "|2004  |Bayern Munich|70.59        |42               |\n",
            "|2005  |Bayern Munich|64.71        |35               |\n",
            "|2006  |Stuttgart    |61.76        |24               |\n",
            "|2007  |Bayern Munich|64.71        |47               |\n",
            "|2008  |Wolfsburg    |61.76        |39               |\n",
            "|2009  |Bayern Munich|58.82        |41               |\n",
            "|2010  |Dortmund     |67.65        |45               |\n",
            "|2011  |Dortmund     |73.53        |55               |\n",
            "|2012  |Bayern Munich|85.29        |80               |\n",
            "|2013  |Bayern Munich|85.29        |71               |\n",
            "|2014  |Bayern Munich|73.53        |62               |\n",
            "|2015  |Bayern Munich|82.35        |63               |\n",
            "+------+-------------+-------------+-----------------+\n",
            "\n"
          ]
        }
      ]
    },
    {
      "cell_type": "markdown",
      "source": [
        "## 2. Sauvegarder deux datasets au format Parquet :"
      ],
      "metadata": {
        "id": "XiFeAPdVOHH-"
      }
    },
    {
      "cell_type": "code",
      "source": [
        "# ==============================\n",
        "# 2️ Sauvegarde au format Parquet\n",
        "# ==============================\n",
        "\n",
        "# Chemins de sortie (adaptés à Google Colab)\n",
        "path_all_teams = \"/content/football_stats_partitioned\"\n",
        "path_top_teams = \"/content/football_top_teams\"\n",
        "\n",
        "# Sauvegarde du DataFrame complet (partitionné par saison)\n",
        "df_ranked.write.mode(\"overwrite\").partitionBy(\"Season\").parquet(path_all_teams)\n",
        "\n",
        "# Sauvegarde du DataFrame des champions\n",
        "df_top_teams.write.mode(\"overwrite\").parquet(path_top_teams)\n",
        "\n",
        "print(\"✅ Données sauvegardées avec succès !\")\n",
        "print(f\"📂 Toutes les équipes : {path_all_teams}\")\n",
        "print(f\"🏅 Champions uniquement : {path_top_teams}\")"
      ],
      "metadata": {
        "colab": {
          "base_uri": "https://localhost:8080/"
        },
        "id": "m56BWz4QOLe_",
        "outputId": "7186835e-493b-4f24-e8aa-b054d2000d05"
      },
      "execution_count": 30,
      "outputs": [
        {
          "output_type": "stream",
          "name": "stdout",
          "text": [
            "✅ Données sauvegardées avec succès !\n",
            "📂 Toutes les équipes : /content/football_stats_partitioned\n",
            "🏅 Champions uniquement : /content/football_top_teams\n"
          ]
        }
      ]
    },
    {
      "cell_type": "markdown",
      "source": [
        "# Étape 9. Visualisation"
      ],
      "metadata": {
        "id": "Co2CCYQJO8Fh"
      }
    },
    {
      "cell_type": "markdown",
      "source": [
        "## 1. Convertir les champions en Pandas."
      ],
      "metadata": {
        "id": "P9VnrGp8PIrK"
      }
    },
    {
      "cell_type": "code",
      "source": [
        "import matplotlib.pyplot as plt\n",
        "import seaborn as sns\n",
        "\n",
        "# ==============================\n",
        "# 1️ Conversion du DataFrame Spark en Pandas\n",
        "# ==============================\n",
        "df_top_teams_pd = df_top_teams.select(\n",
        "    \"Season\", \"Team\", \"WinPercentage\", \"GoalsScored\", \"GoalDifferentials\"\n",
        ").toPandas()\n",
        "\n",
        "# Trier par saison\n",
        "df_top_teams_pd = df_top_teams_pd.sort_values(by=\"Season\")"
      ],
      "metadata": {
        "id": "5SoqFFIuOcgn"
      },
      "execution_count": 31,
      "outputs": []
    },
    {
      "cell_type": "markdown",
      "source": [
        "## 2. Réalisation des 3 graphiques :\n",
        "\n",
        "1. % de victoires des champions.\n",
        "2. Nombre de buts marqués.\n",
        "3. GoalDifferentials par saison."
      ],
      "metadata": {
        "id": "Dqx9Z6-UPVyN"
      }
    },
    {
      "cell_type": "code",
      "source": [
        "# ==============================\n",
        "# 1 Graphique : % de victoires des champions\n",
        "# ==============================\n",
        "plt.figure(figsize=(12, 6))\n",
        "sns.barplot(data=df_top_teams_pd, x=\"Season\", y=\"WinPercentage\", palette=\"viridis\")\n",
        "plt.title(\"Pourcentage de victoires des champions par saison\")\n",
        "plt.ylabel(\"Win Percentage (%)\")\n",
        "plt.xlabel(\"Season\")\n",
        "plt.xticks(rotation=45)\n",
        "plt.ylim(0, 100)\n",
        "plt.show()\n",
        "\n",
        "# ==============================\n",
        "# 2 Graphique : Nombre de buts marqués\n",
        "# ==============================\n",
        "plt.figure(figsize=(12, 6))\n",
        "sns.barplot(data=df_top_teams_pd, x=\"Season\", y=\"GoalsScored\", palette=\"magma\")\n",
        "plt.title(\"Nombre de buts marqués par les champions par saison\")\n",
        "plt.ylabel(\"Goals Scored\")\n",
        "plt.xlabel(\"Season\")\n",
        "plt.xticks(rotation=45)\n",
        "plt.show()\n",
        "\n",
        "# ==============================\n",
        "# 3 Graphique : GoalDifferentials par saison\n",
        "# ==============================\n",
        "plt.figure(figsize=(12, 6))\n",
        "sns.barplot(data=df_top_teams_pd, x=\"Season\", y=\"GoalDifferentials\", palette=\"coolwarm\")\n",
        "plt.title(\"Goal Differentials des champions par saison\")\n",
        "plt.ylabel(\"Goal Differentials\")\n",
        "plt.xlabel(\"Season\")\n",
        "plt.xticks(rotation=45)\n",
        "plt.show()"
      ],
      "metadata": {
        "colab": {
          "base_uri": "https://localhost:8080/",
          "height": 1000
        },
        "id": "a0BfU-MPPTyB",
        "outputId": "8adde3f9-ebc6-456f-d81e-f2fa03d12f1f"
      },
      "execution_count": 32,
      "outputs": [
        {
          "output_type": "stream",
          "name": "stderr",
          "text": [
            "/tmp/ipython-input-3972762631.py:5: FutureWarning: \n",
            "\n",
            "Passing `palette` without assigning `hue` is deprecated and will be removed in v0.14.0. Assign the `x` variable to `hue` and set `legend=False` for the same effect.\n",
            "\n",
            "  sns.barplot(data=df_top_teams_pd, x=\"Season\", y=\"WinPercentage\", palette=\"viridis\")\n"
          ]
        },
        {
          "output_type": "display_data",
          "data": {
            "text/plain": [
              "<Figure size 1200x600 with 1 Axes>"
            ],
            "image/png": "[encoded data removed]"
          },
          "metadata": {}
        },
        {
          "output_type": "stream",
          "name": "stderr",
          "text": [
            "/tmp/ipython-input-3972762631.py:17: FutureWarning: \n",
            "\n",
            "Passing `palette` without assigning `hue` is deprecated and will be removed in v0.14.0. Assign the `x` variable to `hue` and set `legend=False` for the same effect.\n",
            "\n",
            "  sns.barplot(data=df_top_teams_pd, x=\"Season\", y=\"GoalsScored\", palette=\"magma\")\n"
          ]
        },
        {
          "output_type": "display_data",
          "data": {
            "text/plain": [
              "<Figure size 1200x600 with 1 Axes>"
            ],
            "image/png": "[encoded data removed]"
          },
          "metadata": {}
        },
        {
          "output_type": "stream",
          "name": "stderr",
          "text": [
            "/tmp/ipython-input-3972762631.py:28: FutureWarning: \n",
            "\n",
            "Passing `palette` without assigning `hue` is deprecated and will be removed in v0.14.0. Assign the `x` variable to `hue` and set `legend=False` for the same effect.\n",
            "\n",
            "  sns.barplot(data=df_top_teams_pd, x=\"Season\", y=\"GoalDifferentials\", palette=\"coolwarm\")\n"
          ]
        },
        {
          "output_type": "display_data",
          "data": {
            "text/plain": [
              "<Figure size 1200x600 with 1 Axes>"
            ],
            "image/png": "[encoded data removed]"
          },
          "metadata": {}
        }
      ]
    },
    {
      "cell_type": "code",
      "source": [],
      "metadata": {
        "id": "4lKSTrwUP4T_"
      },
      "execution_count": null,
      "outputs": []
    }
  ]
}